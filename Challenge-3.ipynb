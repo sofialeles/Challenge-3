{
 "cells": [
  {
   "cell_type": "markdown",
   "metadata": {
    "id": "4foVEKhrlqcH"
   },
   "source": [
    "# Telecom X - Análise de Evasão de Clientes\n",
    "\n",
    "Você foi contratado como assistente de análise de dados na Telecom X e \n",
    "fará parte do projeto \"Churn de Clientes\". A empresa enfrenta um alto \n",
    "índice de cancelamentos e precisa entender os fatores que levam à perda \n",
    "de clientes.\n",
    "\n",
    "Seu desafio será coletar, tratar e analisar os dados, utilizando Python e\n",
    " suas principais bibliotecas para extrair insights valiosos. A partir da\n",
    " sua análise, os demais colegas da  equipe de Data Science poderá \n",
    "avançar para modelos preditivos e desenvolver estratégias para reduzir a\n",
    " evasão."
   ]
  },
  {
   "cell_type": "markdown",
   "metadata": {
    "id": "extraction_markdown"
   },
   "source": [
    "# 📌 Extração\n",
    "\n",
    "Nesta etapa, importamos as bibliotecas necessárias e carregamos os dados do arquivo JSON. Utilizamos a função `json_normalize` do Pandas para transformar a estrutura aninhada do JSON em um DataFrame plano, facilitando a manipulação."
   ]
  },
  {
   "cell_type": "code",
   "execution_count": null,
   "metadata": {
    "id": "1--uPM88l7JH"
   },
   "outputs": [],
   "source": [
    "import pandas as pd\n",
    "import seaborn as sns\n",
    "import matplotlib.pyplot as plt\n",
    "\n",
    "# Carregando o arquivo JSON\n",
    "data = pd.read_json('TelecomX_Data.json')\n",
    "\n",
    "# Normalizando o JSON para um formato tabular (DataFrame)\n",
    "df_raw = pd.json_normalize(data.to_dict('records'))\n",
    "\n",
    "# Exibindo as primeiras 5 linhas para verificação\n",
    "print(\"Dados brutos carregados:\")\n",
    "display(df_raw.head())\n",
    "\n",
    "# Exibindo informações gerais sobre o DataFrame\n",
    "print(\"\\nInformações do DataFrame original:\")\n",
    "df_raw.info()"
   ]
  },
  {
   "cell_type": "markdown",
   "metadata": {
    "id": "1lSZP8zmmGZu"
   },
   "source": [
    "# 🔧 Transformação\n",
    "\n",
    "Aqui, realizamos a limpeza e a preparação dos dados para a análise. Isso inclui:\n",
    "1. **Remoção de Dados Faltantes:** Linhas com a coluna `Churn` vazia foram removidas.\n",
    "2. **Correção de Tipos de Dados:** A coluna de gastos totais (`account.Charges.Total`) foi convertida para um formato numérico, e os valores ausentes (que surgiram de espaços em branco) foram preenchidos com a mediana.\n",
    "3. **Renomeação de Colunas:** Os nomes das colunas foram simplificados para facilitar o acesso e a leitura do código."
   ]
  },
  {
   "cell_type": "code",
   "execution_count": null,
   "metadata": {
    "id": "bsm-WTLjmHvt"
   },
   "outputs": [],
   "source": [
    "# Filtrando linhas onde a coluna 'Churn' não está vazia\n",
    "df = df_raw[df_raw['Churn'] != ''].copy()\n",
    "\n",
    "# A coluna 'account.Charges.Total' tem espaços em branco que precisam ser tratados.\n",
    "# 'coerce' transforma os valores inválidos (espaços) em NaT (Not a Time) / NaN (Not a Number)\n",
    "df['account.Charges.Total'] = pd.to_numeric(df['account.Charges.Total'], errors='coerce')\n",
    "\n",
    "# Preenchendo os valores nulos (NaN) resultantes com a mediana da coluna\n",
    "median_total_charges = df['account.Charges.Total'].median()\n",
    "df['account.Charges.Total'].fillna(median_total_charges, inplace=True)\n",
    "\n",
    "# Renomeando as colunas para nomes mais simples e em português\n",
    "new_column_names = {\n",
    "    'customerID': 'ID_Cliente',\n",
    "    'Churn': 'Churn',\n",
    "    'customer.gender': 'Genero',\n",
    "    'customer.SeniorCitizen': 'Idoso',\n",
    "    'customer.Partner': 'Parceiro',\n",
    "    'customer.Dependents': 'Dependentes',\n",
    "    'customer.tenure': 'Meses_Contrato',\n",
    "    'phone.PhoneService': 'Servico_Telefonico',\n",
    "    'phone.MultipleLines': 'Multiplas_Linhas',\n",
    "    'internet.InternetService': 'Servico_Internet',\n",
    "    'internet.OnlineSecurity': 'Seguranca_Online',\n",
    "    'internet.OnlineBackup': 'Backup_Online',\n",
    "    'internet.DeviceProtection': 'Protecao_Dispositivo',\n",
    "    'internet.TechSupport': 'Suporte_Tecnico',\n",
    "    'internet.StreamingTV': 'Streaming_TV',\n",
    "    'internet.StreamingMovies': 'Streaming_Filmes',\n",
    "    'account.Contract': 'Contrato',\n",
    "    'account.PaperlessBilling': 'Fatura_Online',\n",
    "    'account.PaymentMethod': 'Metodo_Pagamento',\n",
    "    'account.Charges.Monthly': 'Gasto_Mensal',\n",
    "    'account.Charges.Total': 'Gasto_Total'\n",
    "}\n",
    "df.rename(columns=new_column_names, inplace=True)\n",
    "\n",
    "# Exibindo informações do DataFrame após a transformação\n",
    "print(\"Informações do DataFrame transformado:\")\n",
    "df.info()\n",
    "\n",
    "# Verificando se ainda há valores nulos\n",
    "print(\"\\nVerificação de valores nulos após tratamento:\")\n",
    "print(df.isnull().sum())"
   ]
  },
  {
   "cell_type": "markdown",
   "metadata": {
    "id": "6XnTC2NTmMRL"
   },
   "source": [
    "# 📊 Carga e Análise Exploratória (EDA)\n",
    "\n",
    "Com os dados limpos e prontos, iniciamos a análise exploratória para extrair insights. Criamos diversas visualizações para entender:\n",
    "- A proporção geral de evasão de clientes.\n",
    "- A relação entre o churn e características demográficas (gênero, idade, parceiros, dependentes).\n",
    "- O impacto do tipo de contrato na retenção de clientes.\n",
    "- A distribuição de gastos mensais e totais entre clientes que evadiram e os que permaneceram."
   ]
  },
  {
   "cell_type": "code",
   "execution_count": null,
   "metadata": {
    "id": "1jgUnLqTmPdd"
   },
   "outputs": [],
   "source": [
    "# Configurando o estilo dos gráficos\n",
    "sns.set_style('whitegrid')\n",
    "\n",
    "# 1. Visualização da distribuição do Churn\n",
    "plt.figure(figsize=(7, 7))\n",
    "df['Churn'].value_counts().plot(kind='pie', autopct='%1.1f%%', colors=['skyblue', 'salmon'], explode=(0, 0.05))\n",
    "plt.title('Distribuição de Evasão de Clientes (Churn)', fontsize=16)\n",
    "plt.ylabel('')\n",
    "plt.show()\n",
    "\n",
    "# 2. Evasão por Tipo de Contrato\n",
    "plt.figure(figsize=(10, 6))\n",
    "sns.countplot(x='Contrato', hue='Churn', data=df, palette='viridis')\n",
    "plt.title('Evasão por Tipo de Contrato', fontsize=16)\n",
    "plt.xlabel('Tipo de Contrato', fontsize=12)\n",
    "plt.ylabel('Contagem de Clientes', fontsize=12)\n",
    "plt.show()\n",
    "\n",
    "# 3. Evasão por Cliente ser Idoso ou não\n",
    "plt.figure(figsize=(8, 6))\n",
    "sns.countplot(x='Idoso', hue='Churn', data=df, palette='pastel')\n",
    "plt.title('Evasão por Cliente Idoso', fontsize=16)\n",
    "plt.xlabel('Cliente é Idoso?', fontsize=12)\n",
    "plt.ylabel('Contagem de Clientes', fontsize=12)\n",
    "plt.xticks([0, 1], ['Não', 'Sim'])\n",
    "plt.show()\n",
    "\n",
    "# 4. Relação entre Parceiro, Dependentes e Churn\n",
    "fig, axes = plt.subplots(1, 2, figsize=(16, 6), sharey=True)\n",
    "sns.countplot(ax=axes[0], x='Parceiro', hue='Churn', data=df, palette='coolwarm')\n",
    "axes[0].set_title('Evasão por Clientes com Parceiro(a)')\n",
    "axes[0].set_xlabel('Possui Parceiro(a)')\n",
    "axes[0].set_ylabel('Contagem de Clientes')\n",
    "\n",
    "sns.countplot(ax=axes[1], x='Dependentes', hue='Churn', data=df, palette='coolwarm')\n",
    "axes[1].set_title('Evasão por Clientes com Dependentes')\n",
    "axes[1].set_xlabel('Possui Dependentes')\n",
    "axes[1].set_ylabel('')\n",
    "plt.suptitle('Análise de Evasão por Relacionamento', fontsize=18)\n",
    "plt.show()\n",
    "\n",
    "# 5. Distribuição dos Gastos Mensais por Churn\n",
    "plt.figure(figsize=(12, 7))\n",
    "sns.histplot(data=df, x='Gasto_Mensal', hue='Churn', multiple='stack', kde=True, palette='magma')\n",
    "plt.title('Distribuição dos Gastos Mensais por Churn', fontsize=16)\n",
    "plt.xlabel('Gasto Mensal', fontsize=12)\n",
    "plt.ylabel('Densidade de Clientes', fontsize=12)\n",
    "plt.show()"
   ]
  },
  {
   "cell_type": "markdown",
   "metadata": {
    "id": "v-WzfSvTmaw9"
   },
   "source": [
    "# 💡 Insights e Conclusões\n",
    "\n",
    "A partir da análise exploratória, podemos extrair os seguintes insights valiosos para a Telecom X:\n",
    "\n",
    "1.  **Taxa de Evasão Geral:** Cerca de **26.6%** da base de clientes analisada cancelou o serviço. Este é um número significativo que justifica a investigação.\n",
    "\n",
    "2.  **Tipo de Contrato é Crucial:** O gráfico de \"Evasão por Tipo de Contrato\" mostra claramente que clientes com **contratos mensais (`Month-to-month`) têm uma taxa de evasão drasticamente maior** em comparação com aqueles com contratos de 1 ou 2 anos. Isso sugere que clientes com vínculos mais longos são mais fiéis. \n",
    "    * **Ação Sugerida:** Criar campanhas de incentivo para que clientes de contratos mensais migrem para planos anuais ou bianuais, oferecendo descontos ou benefícios.\n",
    "\n",
    "3.  **Clientes Idosos Evadem Mais:** A proporção de clientes idosos que cancelam o serviço é visivelmente maior do que a de não idosos. \n",
    "    * **Ação Sugerida:** Investigar se os serviços e o suporte oferecidos estão adequados para este público. Talvez seja necessário um atendimento mais simplificado ou pacotes de serviços mais direcionados.\n",
    "\n",
    "4.  **Clientes sem Vínculos Familiares Tendem a Sair:** Clientes que não possuem parceiro(a) e não possuem dependentes apresentam uma maior propensão à evasão. \n",
    "    * **Ação Sugerida:** Desenvolver ofertas voltadas para famílias ou casais, como pacotes com múltiplas linhas ou descontos progressivos, para aumentar a retenção desse grupo.\n",
    "\n",
    "5.  **Gastos Mensais Elevados e Churn:** O histograma de gastos mensais indica que a evasão é mais concentrada na faixa de clientes que pagam valores mais altos (aproximadamente entre $70 e $100 por mês). \n",
    "    * **Ação Sugerida:** Analisar se esses clientes sentem que o custo-benefício está adequado. Pode ser uma oportunidade para oferecer reajustes de plano ou benefícios adicionais para justificar o valor pago.\n",
    "\n",
    "Estes insights servem como um excelente ponto de partida para a equipe de Data Science aprofundar a investigação e construir modelos preditivos de churn."
   ]
  }
 ],
 "metadata": {
  "colab": {
   "collapsed_sections": [],
   "name": "TelecomX_BR.ipynb",
   "provenance": []
  },
  "kernelspec": {
   "display_name": "Python 3",
   "name": "python3"
  },
  "language_info": {
   "name": "python"
  }
 },
 "nbformat": 4,
 "nbformat_minor": 0
}